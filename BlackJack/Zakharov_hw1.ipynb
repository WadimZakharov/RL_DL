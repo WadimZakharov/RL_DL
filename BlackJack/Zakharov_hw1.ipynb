{
 "cells": [
  {
   "cell_type": "markdown",
   "metadata": {},
   "source": [
    "# Advanced DL and RL: Домашнее задание 1"
   ]
  },
  {
   "cell_type": "code",
   "execution_count": 1,
   "metadata": {},
   "outputs": [],
   "source": [
    "import numpy as np\n",
    "import matplotlib.pyplot as plt\n",
    "\n",
    "import gym\n",
    "from gym.utils import seeding\n",
    "\n",
    "import caffeine"
   ]
  },
  {
   "cell_type": "code",
   "execution_count": 2,
   "metadata": {},
   "outputs": [],
   "source": [
    "caffeine.on(display=False)"
   ]
  },
  {
   "cell_type": "markdown",
   "metadata": {},
   "source": [
    "Первое ДЗ связано с обучением с подкреплением, и оно придумано для ситуации, когда нейронные сети ещё не нужны, и пространство состояний в целом достаточно маленькое, чтобы можно было обучить хорошую стратегию методами TD-обучения или другими методами обучения с подкреплением. Задание получилось, надеюсь, интересное, но в том числе и достаточно техническое, так что для решения придётся немножко попрограммировать. Поэтому ​в качестве решения ожидается ссылка на jupyter-ноутбук на вашем github (или публичный, или с доступом для snikolenko); ссылку обязательно нужно прислать в виде сданного домашнего задания на портале Академии.​Любые комментарии, новые идеи и рассуждения на тему, как всегда, категорически приветствуются."
   ]
  },
  {
   "cell_type": "markdown",
   "metadata": {},
   "source": [
    "## Часть первая, с блекджеком и стратегиями"
   ]
  },
  {
   "cell_type": "markdown",
   "metadata": {},
   "source": [
    "Мы будем обучаться играть в очень простую, но всё-таки знаменитую и популярную игру: блекджек. Правила блекджека достаточно просты; давайте начнём с самой базовой версии, которая реализована в OpenAI Gym:\n",
    "\n",
    "➢ численные значения карт равны от 2 до 10 для карт от двойки до десятки, 10 для валетов, дам и королей;\n",
    "\n",
    "➢ туз считается за 11 очков, если общая сумма карт на руке при этом не превосходит 21 (по-английски в этом случае говорят, что на руке есть usable ace), и за 1 очко, если превосходит;\n",
    "\n",
    "➢ игроку раздаются две карты, дилеру — одна в открытую и одна в закрытую;\n",
    "\n",
    "➢ игрок может совершать одно из двух действий:\n",
    "\n",
    "    ○ hit​— взять ещё одну карту;\n",
    "    ○ stand​— не брать больше карт;\n",
    "    \n",
    "➢ если сумма очков у игрока на руках больше 21, он проигрывает (bust);\n",
    "\n",
    "➢ если игрок выбирает stand с суммой не больше 21, дилер добирает карты, пока\n",
    "сумма карт в его руке меньше 17;\n",
    "\n",
    "➢ после этого игрок выигрывает, если дилер либо превышает 21, либо получает\n",
    "\n",
    "сумму очков меньше, чем сумма очков у игрока; при равенстве очков объявляется\n",
    "ничья (ставка возвращается);\n",
    "\n",
    "➢ в исходных правилах есть ещё дополнительный бонус за natural blackjack: если\n",
    "игрок набирает 21 очко с раздачи, двумя картами, он выигрывает не +1, а +1.5 (полторы ставки)."
   ]
  },
  {
   "cell_type": "markdown",
   "metadata": {},
   "source": [
    "### 1. Рассмотрим очень простую стратегию: говорить stand, если у нас на руках комбинация в 19, 20 или 21 очко, во всех остальных случаях говорить hit. Используйте методы Монте-Карло, чтобы оценить выигрыш от этой стратегии.*"
   ]
  },
  {
   "cell_type": "code",
   "execution_count": 3,
   "metadata": {},
   "outputs": [],
   "source": [
    "env = gym.make('Blackjack-v0', natural=True)"
   ]
  },
  {
   "cell_type": "code",
   "execution_count": 4,
   "metadata": {},
   "outputs": [],
   "source": [
    "def sample_policy(observation):\n",
    "    score, dealer_score, usable_ace = observation\n",
    "    return 0 if score >= 19 else 1"
   ]
  },
  {
   "cell_type": "code",
   "execution_count": 5,
   "metadata": {},
   "outputs": [],
   "source": [
    "n_iters = 100000\n",
    "avg_V = 0\n",
    "for i in range(1, n_iters+1):\n",
    "    observation = env.reset()\n",
    "    done = False\n",
    "    while not done:\n",
    "        action = sample_policy(observation)\n",
    "        observation, G, done, info = env.step(action)\n",
    "    avg_V += (G - avg_V) / i"
   ]
  },
  {
   "cell_type": "code",
   "execution_count": 6,
   "metadata": {},
   "outputs": [
    {
     "name": "stdout",
     "output_type": "stream",
     "text": [
      "Средняя награда при простой стратегии: -0.18794500000000194\n"
     ]
    }
   ],
   "source": [
    "print(\"Средняя награда при простой стратегии:\", avg_V)"
   ]
  },
  {
   "cell_type": "markdown",
   "metadata": {},
   "source": [
    "### 2. Реализуйте метод обучения с подкреплением без модели (можно Q-обучение, но рекомендую попробовать и другие, например Monte Carlo control) для обучения стратегии в блекджеке, используя окружение Blackjack-v0 из OpenAI Gym.\n"
   ]
  },
  {
   "cell_type": "code",
   "execution_count": 7,
   "metadata": {},
   "outputs": [],
   "source": [
    "class Qlearning:\n",
    "    def __init__(self, alpha=0.00001, gamma=1, eps=0.1, env='Blackjack-v0'):\n",
    "        self.Q = {}\n",
    "        self.alpha = alpha\n",
    "        self.gamma = gamma\n",
    "        self.eps = eps\n",
    "        if env == 'Blackjack-v0':\n",
    "            self.env = gym.make('Blackjack-v0', natural=True)\n",
    "            self.na = self.env.action_space.n\n",
    "        elif env == 'DoubleBlackjack':\n",
    "            self.env = DoubleBlackjackEnv()\n",
    "            self.na = self.env.na\n",
    "        \n",
    "        elif env == 'СountingDoubleBlackjack':\n",
    "            self.env = СountingDoubleBlackjackEnv()\n",
    "            self.na = self.env.na\n",
    "    \n",
    "    def get_rewards(self, state):\n",
    "        if state not in self.Q.keys():\n",
    "            self.Q[state] = np.zeros(self.na)\n",
    "        return self.Q[state]\n",
    "    \n",
    "    def get_next_action(self, state):\n",
    "        rewards = self.get_rewards(state)\n",
    "        return np.argmax(rewards)\n",
    "    \n",
    "    def epsilon_greedy_policy(self, state):\n",
    "        if np.random.rand() < self.eps:\n",
    "            action = np.random.choice([0, 1])\n",
    "        else:\n",
    "            action = self.get_next_action(state)\n",
    "        return action\n",
    "            \n",
    "    def run_episode(self):\n",
    "        state = self.env.reset()\n",
    "        done = False\n",
    "        steps = []\n",
    "        while not done:\n",
    "            action = self.epsilon_greedy_policy(state)\n",
    "            steps.append((state, action))\n",
    "            state, reward, done, _ = self.env.step(action)\n",
    "        return steps, reward\n",
    "    \n",
    "    def train(self, n_iters=200000):\n",
    "        for n in range(n_iters):\n",
    "            steps, reward = self.run_episode()\n",
    "            for state, action in steps[::-1]:\n",
    "                reward = self.get_rewards(state)[action] + self.alpha * \\\n",
    "                (reward + self.gamma * np.max(self.Q[state]) - self.get_rewards(state)[action])\n",
    "                self.Q[state][action] = reward\n",
    "    \n",
    "    def inference(self, n_iters=100000):\n",
    "        avg_V = 0\n",
    "        for i in range(1, n_iters+1):\n",
    "            state = self.env.reset()\n",
    "            done = False\n",
    "            while not done:\n",
    "                action = self.get_next_action(state)\n",
    "                state, G, done, _ = self.env.step(action)\n",
    "            avg_V += (G - avg_V) / i\n",
    "        return avg_V"
   ]
  },
  {
   "cell_type": "code",
   "execution_count": 8,
   "metadata": {},
   "outputs": [
    {
     "name": "stdout",
     "output_type": "stream",
     "text": [
      "CPU times: user 12.4 s, sys: 533 ms, total: 12.9 s\n",
      "Wall time: 12.5 s\n"
     ]
    }
   ],
   "source": [
    "%%time\n",
    "QL = Qlearning()\n",
    "QL.train()"
   ]
  },
  {
   "cell_type": "markdown",
   "metadata": {},
   "source": [
    "### 3. Сколько выигрывает казино у вашей стратегии? Нарисуйте графики среднего дохода вашего метода (усреднённого по крайней мере по 100000 раздач, а лучше больше) по ходу обучения. Попробуйте подобрать оптимальные гиперпараметры."
   ]
  },
  {
   "cell_type": "code",
   "execution_count": 9,
   "metadata": {},
   "outputs": [
    {
     "data": {
      "text/plain": [
       "-0.08197500000000082"
      ]
     },
     "execution_count": 9,
     "metadata": {},
     "output_type": "execute_result"
    }
   ],
   "source": [
    "QL.inference()"
   ]
  },
  {
   "cell_type": "markdown",
   "metadata": {},
   "source": [
    "#### Найдем оптимальные гиперпараметры"
   ]
  },
  {
   "cell_type": "code",
   "execution_count": 10,
   "metadata": {},
   "outputs": [
    {
     "name": "stdout",
     "output_type": "stream",
     "text": [
      "best gain: -0.03447999999999999, best alpha: 0.00023, best eps: 0.21666666666666667\n"
     ]
    }
   ],
   "source": [
    "Alpha=np.linspace(0.00001, 0.001, 10)\n",
    "Eps = np.linspace(0.05, 0.3, 10)\n",
    "best_gain = -10\n",
    "for alpha in Alpha:\n",
    "    for eps in Eps:\n",
    "        QL = Qlearning(alpha=alpha, eps=eps)\n",
    "        QL.train(50000)\n",
    "        gain = QL.inference()\n",
    "        if gain > best_gain:\n",
    "            best_gain = gain\n",
    "            best_alpha = alpha\n",
    "            best_eps = eps\n",
    "\n",
    "print(f\"best gain: {best_gain}, best alpha: {best_alpha}, best eps: {best_eps}\")"
   ]
  },
  {
   "cell_type": "code",
   "execution_count": 11,
   "metadata": {},
   "outputs": [],
   "source": [
    "#best_alpha, best_eps = 0.00056, 0.1\n",
    "QL = Qlearning(alpha=best_alpha, eps=best_eps)\n",
    "delta_inf = 1000\n",
    "n_iters = 50000\n",
    "G = [QL.inference()]\n",
    "episode = [0]\n",
    "step = n_iters//delta_inf\n",
    "for i in range(1, step+1):\n",
    "    QL.train(delta_inf)\n",
    "    gain = QL.inference()\n",
    "    G.append(gain)\n",
    "    episode.append(i*delta_inf)"
   ]
  },
  {
   "cell_type": "code",
   "execution_count": 15,
   "metadata": {},
   "outputs": [
    {
     "data": {
      "image/png": "[encoded data removed]",
      "text/plain": [
       "<Figure size 1152x576 with 1 Axes>"
      ]
     },
     "metadata": {
      "needs_background": "light"
     },
     "output_type": "display_data"
    }
   ],
   "source": [
    "plt.figure(figsize=(16, 8))\n",
    "plt.plot(episode, G, 'o-')\n",
    "plt.xlabel('Эпизоды')\n",
    "plt.ylabel('Средняя награда')\n",
    "plt.grid()\n",
    "plt.show()"
   ]
  },
  {
   "cell_type": "code",
   "execution_count": 16,
   "metadata": {},
   "outputs": [
    {
     "name": "stdout",
     "output_type": "stream",
     "text": [
      "Средняя награда: -0.06299000000000131\n"
     ]
    }
   ],
   "source": [
    "print(\"Средняя награда:\", gain)"
   ]
  },
  {
   "cell_type": "markdown",
   "metadata": {},
   "source": [
    "## Часть вторая, удвоенная"
   ]
  },
  {
   "cell_type": "markdown",
   "metadata": {},
   "source": [
    "В базовый блекджек, описанный в предыдущем разделе, обыграть казино вряд ли получится. Но, к счастью, на этом история не заканчивается. Описанные выше правила были упрощёнными, а на самом деле у игрока есть ещё и другие возможности. Реализовывать split может оказаться непросто, поэтому давайте ограничимся удвоением ставки. Итак, у игрока появляется дополнительное действие:\n",
    "\n",
    "    ➢ double — удвоить ставку; при этом больше действий делать нельзя, игроку выдаётся ровно одна дополнительная карта, а выигрыш или проигрыш удваивается."
   ]
  },
  {
   "cell_type": "markdown",
   "metadata": {},
   "source": [
    "### 4. Реализуйте новый вариант блекджека на основе окружения Blackjack-v0 из OpenAI Gym, в котором разрешено удвоение ставки."
   ]
  },
  {
   "cell_type": "code",
   "execution_count": 17,
   "metadata": {},
   "outputs": [],
   "source": [
    "class DoubleBlackjackEnv:\n",
    "    def __init__(self):\n",
    "        self.base_env = gym.make('Blackjack-v0', natural=True)\n",
    "        self.na = 3\n",
    "        \n",
    "    def reset(self):\n",
    "        return self.base_env.reset()\n",
    "    \n",
    "    def step(self, action):\n",
    "        if action == 2:\n",
    "            state, reward, done, info = self.base_env.step(1)\n",
    "            if done:\n",
    "                return state, 2*reward, done, info\n",
    "            else:\n",
    "                state, reward, done, info = self.base_env.step(0)\n",
    "                return state, 2*reward, done, info\n",
    "        else:\n",
    "            return self.base_env.step(action)"
   ]
  },
  {
   "cell_type": "code",
   "execution_count": 18,
   "metadata": {
    "scrolled": true
   },
   "outputs": [
    {
     "name": "stdout",
     "output_type": "stream",
     "text": [
      "CPU times: user 6.14 s, sys: 155 ms, total: 6.29 s\n",
      "Wall time: 6.19 s\n"
     ]
    }
   ],
   "source": [
    "%%time\n",
    "QL = Qlearning(env=\"DoubleBlackjack\")\n",
    "QL.train(100000)"
   ]
  },
  {
   "cell_type": "code",
   "execution_count": 19,
   "metadata": {},
   "outputs": [
    {
     "data": {
      "text/plain": [
       "-0.12082000000000055"
      ]
     },
     "execution_count": 19,
     "metadata": {},
     "output_type": "execute_result"
    }
   ],
   "source": [
    "QL.inference()"
   ]
  },
  {
   "cell_type": "markdown",
   "metadata": {},
   "source": [
    "### 5. Реализуйте метод обучения с подкреплением без модели для этого варианта, постройте графики, аналогичные п.2."
   ]
  },
  {
   "cell_type": "code",
   "execution_count": null,
   "metadata": {},
   "outputs": [],
   "source": [
    "Alpha=np.linspace(0.00001, 0.001, 10)\n",
    "Eps = np.linspace(0.05, 0.3, 10)\n",
    "best_gain = -10\n",
    "for alpha in Alpha:\n",
    "    for eps in Eps:\n",
    "        QL = Qlearning(alpha=alpha, eps=eps, env=\"DoubleBlackjack\")\n",
    "        QL.train(50000)\n",
    "        gain = QL.inference()\n",
    "        if gain > best_gain:\n",
    "            best_gain = gain\n",
    "            best_alpha = alpha\n",
    "            best_eps = eps\n",
    "\n",
    "print(f\"best gain: {best_gain}, best alpha: {best_alpha}, best eps: {best_eps}\")"
   ]
  },
  {
   "cell_type": "code",
   "execution_count": null,
   "metadata": {},
   "outputs": [],
   "source": [
    "#best_alpha, best_eps = 0.00012, 0.1\n",
    "QL = Qlearning(alpha=best_alpha, eps=best_eps, env=\"DoubleBlackjack\")\n",
    "delta_inf = 1000\n",
    "n_iters = 50000\n",
    "G = [QL.inference()]\n",
    "episode = [0]\n",
    "step = n_iters//delta_inf\n",
    "for i in range(1, step+1):\n",
    "    QL.train(delta_inf)\n",
    "    gain = QL.inference()\n",
    "    G.append(gain)\n",
    "    episode.append(i*delta_inf)"
   ]
  },
  {
   "cell_type": "code",
   "execution_count": null,
   "metadata": {},
   "outputs": [],
   "source": [
    "plt.figure(figsize=(16, 8))\n",
    "plt.plot(episode, G, 'o-')\n",
    "plt.xlabel('Эпизоды')\n",
    "plt.ylabel('Средняя награда')\n",
    "plt.grid()\n",
    "plt.show()"
   ]
  },
  {
   "cell_type": "code",
   "execution_count": null,
   "metadata": {},
   "outputs": [],
   "source": [
    "print(\"Средняя награда:\", gain)"
   ]
  },
  {
   "cell_type": "markdown",
   "metadata": {},
   "source": [
    "## Часть третья, в главной роли — Дастин Хоффман"
   ]
  },
  {
   "cell_type": "markdown",
   "metadata": {},
   "source": [
    "А теперь давайте вспомним, как играют в блекджек настоящие профессионалы. Дело в том, что в оффлайн-казино обычно не перемешивают колоду после каждой раздачи — это слишком замедляло бы игру. После раздачи карты просто раздаются дальше с верха колоды до тех пор, пока карт не останется слишком мало, и только тогда колода перемешивается; давайте для определённости считать, что наше казино будет перемешивать колоду, в которой осталось меньше 15 карт.\n",
    "Действительно, если вы будете запоминать, какие карты уже вышли, у вас будет информация о том, какие карты ещё остались, а это позволяет лучше понять, когда нужно удваивать ставку или делать split, а когда лучше не стоит. В настоящем казино могут раздавать карты сразу из нескольких колод, и заслуга Rain Man’а была в том, что он смог считать карты в шести колодах одновременно. Но мы с вами вооружены компьютерами, так что подсчёт можно считать автоматическим."
   ]
  },
  {
   "cell_type": "markdown",
   "metadata": {},
   "source": [
    "### 6. Реализуйте вариант окружения Blackjack-v0 из предыдущей части (с удвоением), в котором игрок имеет возможность “считать карты” в колоде."
   ]
  },
  {
   "cell_type": "code",
   "execution_count": 57,
   "metadata": {},
   "outputs": [],
   "source": [
    "class СountingDoubleBlackjackEnv(gym.Env):\n",
    "    def __init__(self, natural=True):\n",
    "        self.natural = natural\n",
    "        self.na = 3\n",
    "        self.deck = 4 * [1, 2, 3, 4, 5, 6, 7, 8, 9, 10, 10, 10, 10]\n",
    "        self.seed()\n",
    "\n",
    "    def cmp(self, a, b):\n",
    "        return float(a > b) - float(a < b)\n",
    "\n",
    "\n",
    "    def draw_card(self, np_random):\n",
    "        card = self.np_random.choice(self.deck)\n",
    "        self.deck.remove(card)\n",
    "        return card\n",
    "\n",
    "\n",
    "    def draw_hand(self, np_random):\n",
    "        return [self.draw_card(np_random), self.draw_card(np_random)]\n",
    "\n",
    "\n",
    "    def usable_ace(self, hand):  # Does this hand have a usable ace?\n",
    "        return 1 in hand and sum(hand) + 10 <= 21\n",
    "\n",
    "\n",
    "    def sum_hand(self, hand):  # Return current hand total\n",
    "        if self.usable_ace(hand):\n",
    "            return sum(hand) + 10\n",
    "        return sum(hand)\n",
    "\n",
    "\n",
    "    def is_bust(self, hand):  # Is this hand a bust?\n",
    "        return self.sum_hand(hand) > 21\n",
    "\n",
    "\n",
    "    def score(self, hand):  # What is the score of this hand (0 if bust)\n",
    "        return 0 if self.is_bust(hand) else self.sum_hand(hand)\n",
    "\n",
    "\n",
    "    def is_natural(self, hand):  # Is this hand a natural blackjack?\n",
    "        return sorted(hand) == [1, 10]\n",
    "\n",
    "    def seed(self, seed=None):\n",
    "        self.np_random, seed = seeding.np_random(seed)\n",
    "        return [seed]\n",
    "\n",
    "    def step(self, action):\n",
    "        if action == 2:\n",
    "            state, reward, done, info = self.step(1)\n",
    "            if done:\n",
    "                return state, 2*reward, done, info\n",
    "            else:\n",
    "                state, reward, done, info = self.step(0)\n",
    "                return state, 2*reward, done, info\n",
    "        elif action:  # hit: add a card to players hand and return\n",
    "            self.player.append(self.draw_card(self.np_random))\n",
    "            if self.is_bust(self.player):\n",
    "                done = True\n",
    "                reward = -1.\n",
    "            else:\n",
    "                done = False\n",
    "                reward = 0.\n",
    "        else:  # stick: play out the dealers hand, and score\n",
    "            done = True\n",
    "            while self.sum_hand(self.dealer) < 17:\n",
    "                self.dealer.append(self.draw_card(self.np_random))\n",
    "            reward = self.cmp(self.score(self.player), self.score(self.dealer))\n",
    "            if self.natural and self.is_natural(self.player) and reward == 1.:\n",
    "                reward = 1.5\n",
    "        return self._get_obs(), reward, done, {}\n",
    "\n",
    "    def _get_obs(self):\n",
    "        return (self.sum_hand(self.player), self.dealer[0], self.usable_ace(self.player))\n",
    "\n",
    "    def reset(self):\n",
    "        if len(self.deck) < 15:\n",
    "            self.deck = 4 * [1, 2, 3, 4, 5, 6, 7, 8, 9, 10, 10, 10, 10]\n",
    "        self.dealer = self.draw_hand(self.np_random)\n",
    "        self.player = self.draw_hand(self.np_random)\n",
    "        return self._get_obs()\n"
   ]
  },
  {
   "cell_type": "code",
   "execution_count": 60,
   "metadata": {},
   "outputs": [],
   "source": [
    "QL = Qlearning(env=\"СountingDoubleBlackjack\")\n",
    "QL.train(100000)"
   ]
  },
  {
   "cell_type": "code",
   "execution_count": 61,
   "metadata": {},
   "outputs": [
    {
     "data": {
      "text/plain": [
       "-0.15362500000000173"
      ]
     },
     "execution_count": 61,
     "metadata": {},
     "output_type": "execute_result"
    }
   ],
   "source": [
    "QL.inference()"
   ]
  },
  {
   "cell_type": "code",
   "execution_count": null,
   "metadata": {},
   "outputs": [],
   "source": []
  }
 ],
 "metadata": {
  "kernelspec": {
   "display_name": "Python 3",
   "language": "python",
   "name": "python3"
  },
  "language_info": {
   "codemirror_mode": {
    "name": "ipython",
    "version": 3
   },
   "file_extension": ".py",
   "mimetype": "text/x-python",
   "name": "python",
   "nbconvert_exporter": "python",
   "pygments_lexer": "ipython3",
   "version": "3.7.1"
  }
 },
 "nbformat": 4,
 "nbformat_minor": 2
}
